{
 "cells": [
  {
   "cell_type": "code",
   "execution_count": 1,
   "metadata": {},
   "outputs": [
    {
     "name": "stdout",
     "output_type": "stream",
     "text": [
      "Enter length of side one: 4\n",
      "Enter length of side two: 5\n",
      "Enter length of side three: 6\n",
      "Area of the triangle is:  9.921567416492215\n"
     ]
    }
   ],
   "source": [
    "# A program that reads the lengths of the sides of a triangle from the user and displays its area.\n",
    "\n",
    "from math import sqrt\n",
    "\n",
    "s1 = float(input(\"Enter length of side one: \"))\n",
    "s2 = float(input(\"Enter length of side two: \"))\n",
    "s3 = float(input(\"Enter length of side three: \"))\n",
    "\n",
    "s = (s1 + s2 + s3) / 2\n",
    "area = sqrt(s*(s - s1) * (s - s2) * (s - s3))\n",
    "print(\"Area of the triangle is: \", area)\n"
   ]
  },
  {
   "cell_type": "code",
   "execution_count": 3,
   "metadata": {},
   "outputs": [
    {
     "name": "stdout",
     "output_type": "stream",
     "text": [
      "Enter temperature in celsius: 37\n",
      "Temperature in degrees Fahrenheit 98.6\n"
     ]
    }
   ],
   "source": [
    "\"\"\"\" a program that begins by reading a temperature from the user \n",
    "in degreesCelsius. Then your program should display the equivalent \n",
    "temperature in degreesFahrenheit and degrees Kelvin \"\"\"\n",
    "\n",
    "temp_in_degrees_celsius = float(input(\"Enter temperature in celsius: \"))\n",
    "fahrenheit = (temp_in_degrees_celsius * 9/5) + 32\n",
    "print('Temperature in degrees Fahrenheit', fahrenheit)"
   ]
  },
  {
   "cell_type": "code",
   "execution_count": null,
   "metadata": {},
   "outputs": [],
   "source": []
  },
  {
   "cell_type": "code",
   "execution_count": null,
   "metadata": {},
   "outputs": [],
   "source": []
  }
 ],
 "metadata": {
  "kernelspec": {
   "display_name": "Python 3",
   "language": "python",
   "name": "python3"
  },
  "language_info": {
   "codemirror_mode": {
    "name": "ipython",
    "version": 3
   },
   "file_extension": ".py",
   "mimetype": "text/x-python",
   "name": "python",
   "nbconvert_exporter": "python",
   "pygments_lexer": "ipython3",
   "version": "3.8.5"
  }
 },
 "nbformat": 4,
 "nbformat_minor": 4
}
